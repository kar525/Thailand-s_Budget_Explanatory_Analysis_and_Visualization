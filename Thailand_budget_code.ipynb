{
  "cells": [
    {
      "cell_type": "code",
      "execution_count": null,
      "metadata": {
        "id": "FE5TxOAHy6CQ"
      },
      "outputs": [],
      "source": [
        "import sys\n",
        "import pandas as pd\n",
        "import numpy as np\n",
        "pd.set_option('display.float_format', '{:,.2f}'.format)\n",
        "import altair as alt\n",
        "import matplotlib.pyplot as plt\n"
      ]
    },
    {
      "cell_type": "code",
      "execution_count": null,
      "metadata": {
        "id": "u3ubGt9WzJk9"
      },
      "outputs": [],
      "source": [
        "df67 = pd.read_excel('67.xlsx')\n",
        "df67['AMOUNT'] = df67['AMOUNT'].astype(float)\n",
        "df67.info()"
      ]
    },
    {
      "cell_type": "code",
      "execution_count": null,
      "metadata": {
        "id": "uwnkN7fy2xDd"
      },
      "outputs": [],
      "source": [
        "df67.loc[df67['FISCAL_YEAR'] == 2024, 'AMOUNT'].sum()\n",
        "\n"
      ]
    },
    {
      "cell_type": "code",
      "execution_count": null,
      "metadata": {
        "id": "WqGTwCle7nAS"
      },
      "outputs": [],
      "source": [
        "df67 = df67.drop(df67[df67['FISCAL_YEAR'] != 2024].index)\n",
        "df67['AMOUNT'].sum()"
      ]
    },
    {
      "cell_type": "code",
      "execution_count": null,
      "metadata": {
        "id": "8fxmv77cCVv2"
      },
      "outputs": [],
      "source": [
        "df67['MINISTRY'].unique()"
      ]
    },
    {
      "cell_type": "code",
      "execution_count": null,
      "metadata": {
        "id": "azv886GEFLpy"
      },
      "outputs": [],
      "source": [
        "df68 = pd.read_excel('68.xlsx')\n",
        "df68['AMOUNT'] = df68['AMOUNT'].astype(float)\n",
        "df68.loc[df68['FISCAL_YEAR'] == 2025, 'AMOUNT'].sum()\n"
      ]
    },
    {
      "cell_type": "code",
      "execution_count": null,
      "metadata": {
        "id": "9d_E5rHqLJou"
      },
      "outputs": [],
      "source": [
        "df68 = df68.drop(df68[df68['FISCAL_YEAR'] != 2025].index)\n",
        "df68['AMOUNT'].sum()"
      ]
    },
    {
      "cell_type": "code",
      "execution_count": null,
      "metadata": {
        "id": "XMiVz79ZN1BO"
      },
      "outputs": [],
      "source": [
        "df66 = pd.read_excel('66.xlsx')\n",
        "df66.loc[df66['FISCAL_YEAR'] == 2023, 'AMOUNT'].sum()"
      ]
    },
    {
      "cell_type": "code",
      "execution_count": null,
      "metadata": {
        "id": "u3rka9QiNxpp"
      },
      "outputs": [],
      "source": [
        "df66 = df66.drop(df66[df66['FISCAL_YEAR'] != 2023].index)\n",
        "df66['AMOUNT'].sum()"
      ]
    },
    {
      "cell_type": "code",
      "execution_count": null,
      "metadata": {
        "id": "PWLGi7cAOPGo"
      },
      "outputs": [],
      "source": [
        "df67.info()"
      ]
    },
    {
      "cell_type": "code",
      "execution_count": null,
      "metadata": {
        "id": "Lq18nygKOpCg"
      },
      "outputs": [],
      "source": [
        "liscol = ['FISCAL_YEAR','MINISTRY','BUDGETARY_UNIT','BUDGET_PLAN','OUTPUT','PROJECT','ITEM_DESCRIPTION','AMOUNT']"
      ]
    },
    {
      "cell_type": "code",
      "execution_count": null,
      "metadata": {
        "id": "dDWFBz4wPKmx"
      },
      "outputs": [],
      "source": [
        "df66_clean = df66[liscol]\n",
        "df67_clean = df67[liscol]\n",
        "df68_clean = df68[liscol]\n",
        "df66_67_68 = pd.concat([df66_clean,df67_clean,df68_clean]).reset_index(drop=True)\n",
        "df66_67_68.info()\n",
        "df66_67_68['MINISTRY'] = df66_67_68['MINISTRY'].replace('ส่วนราชการไม่สังกัดสำนักนายกรัฐมนตรี กระทรวง หรือทบวงและหน่วยงานภายใต้การควบคุมดูแลของนายกรัฐมนตรี','ส่วนราชการไม่สังกัดสำนักนายกรัฐมนตรี กระทรวง หรือทบวง และหน่วยงานภายใต้การควบคุมดูแลของนายกรัฐมนตรี')\n",
        "df66_67_68['MINISTRY'] = df66_67_68['MINISTRY'].replace('ทุนหมุนเวียนที่มีฐานะเป็นนิติบุคคล','ทุนหมุนเวียน')\n",
        "df66_67_68['MINISTRY'] = df66_67_68['MINISTRY'].replace('ทุนหมุนเวียนที่ไม่มีฐานะเป็นนิติบุคคล','ทุนหมุนเวียน')\n",
        "df66_67_68['MINISTRY'] = df66_67_68['MINISTRY'].replace('ส่วนราชการไม่สังกัดสำนักนายกรัฐมนตรีฯ','ส่วนราชการไม่สังกัดสำนักนายกรัฐมนตรี กระทรวง หรือทบวง และหน่วยงานภายใต้การควบคุมดูแลของนายกรัฐมนตรี')"
      ]
    },
    {
      "cell_type": "code",
      "execution_count": null,
      "metadata": {
        "id": "PCN5_kP4Pjqp"
      },
      "outputs": [],
      "source": [
        "df66_67_68.tail()"
      ]
    },
    {
      "cell_type": "code",
      "execution_count": null,
      "metadata": {
        "id": "CH1XtS5uVAgB"
      },
      "outputs": [],
      "source": [
        "df66_67_68['AMOUNT'].sum()"
      ]
    },
    {
      "cell_type": "code",
      "execution_count": null,
      "metadata": {
        "id": "qY65nx83exiH"
      },
      "outputs": [],
      "source": [
        "group = df66_67_68[['MINISTRY','AMOUNT']].groupby(['MINISTRY']).sum().reset_index()\n",
        "group = group.sort_values(by='AMOUNT',ascending=False).reset_index(drop=True)\n",
        "bar_chart = df66_67_68[['AMOUNT','FISCAL_YEAR']].groupby(['FISCAL_YEAR']).sum().reset_index()"
      ]
    },
    {
      "cell_type": "code",
      "execution_count": null,
      "metadata": {
        "id": "bgT-57lAkIpT"
      },
      "outputs": [],
      "source": [
        "#barchart งบแต่ละกระทรวง+เส้นค่าเฉลี่ย\n",
        "A = alt.Chart(group).mark_bar().encode(\n",
        "    x=alt.X('MINISTRY', sort='-y'),  # เรียงลำดับจากมากไปน้อยตามค่า y (AMOUNT)\n",
        "    y='AMOUNT',\n",
        "    color='MINISTRY',\n",
        "    tooltip=[\n",
        "        alt.Tooltip('MINISTRY', title='Ministry'),\n",
        "        alt.Tooltip('AMOUNT', title='Amount', format=\",.2f\")  # ฟอร์แมตตัวเลข , และไม่มีฐาน E\n",
        "    ]\n",
        ").interactive()\n",
        "mean_line = alt.Chart(group).mark_rule(color='red').encode(\n",
        "    y='mean(AMOUNT):Q',tooltip = alt.Tooltip('mean(AMOUNT):Q', title='Average Amount',format=\",.2f\"))   # ใช้ mean ของ AMOUNT เพื่อกำหนดตำแหน่ง Y)\n",
        "\n",
        "A_meanline = A+mean_line"
      ]
    },
    {
      "cell_type": "code",
      "execution_count": null,
      "metadata": {
        "id": "tY_wgwP53ZRr"
      },
      "outputs": [],
      "source": [
        "barsum = alt.Chart(bar_chart).mark_bar().encode(\n",
        "    x=\"AMOUNT\",\n",
        "    y=\"FISCAL_YEAR:O\",\n",
        "    tooltip=\n",
        "        alt.Tooltip('AMOUNT', title='Amount', format=\",.2f\")  # ฟอร์แมตตัวเลข , และไม่มีฐาน E\n",
        ")\n",
        "barsum & A_meanline"
      ]
    },
    {
      "cell_type": "code",
      "execution_count": null,
      "metadata": {
        "id": "2EXJnNDHgNW4"
      },
      "outputs": [],
      "source": [
        "C = df66_67_68.loc[df66_67_68['MINISTRY'] == 'งบกลาง', 'BUDGETARY_UNIT'].unique()\n",
        "C"
      ]
    },
    {
      "cell_type": "code",
      "execution_count": null,
      "metadata": {
        "id": "vAK57Y5YiQOa"
      },
      "outputs": [],
      "source": [
        "group3 = df66_67_68[['BUDGETARY_UNIT','AMOUNT']].groupby(['BUDGETARY_UNIT']).sum()\n",
        "group3.sort_values(by='AMOUNT',ascending=False)"
      ]
    },
    {
      "cell_type": "code",
      "execution_count": null,
      "metadata": {
        "id": "MI_8t7o0bYT8"
      },
      "outputs": [],
      "source": [
        "dropdown = alt.binding_select(options=df66_67_68['MINISTRY'].unique().tolist(), name='Select Ministry:')\n",
        "selector = alt.selection_single(fields=['MINISTRY'], bind=dropdown, init={'MINISTRY': 'กระทรวงกลาโหม'})\n",
        "group2 = df66_67_68[['MINISTRY','AMOUNT','FISCAL_YEAR']].groupby(['FISCAL_YEAR','MINISTRY']).sum().reset_index()\n",
        "B = alt.Chart(group2).mark_bar().encode(\n",
        "    x=alt.X('FISCAL_YEAR:O', sort='-y'),  # แกน X เป็นปี (Ordinal)\n",
        "    y='AMOUNT:Q',  # แกน Y เป็นจำนวนเงิน (Quantitative)\n",
        "    color='MINISTRY',  # ใช้สีตาม MINISTRY\n",
        "    tooltip=[\n",
        "        alt.Tooltip('MINISTRY', title='Ministry'),\n",
        "        alt.Tooltip('AMOUNT', title='Amount', format=\",.2f\"),  # ฟอร์แมตตัวเลข , และไม่มีฐาน E\n",
        "    ]\n",
        ").transform_filter(selector).properties(title='Bar Chart by Ministry')\n",
        "\n",
        "# แสดงผล\n",
        "B.add_selection(selector)"
      ]
    },
    {
      "cell_type": "code",
      "execution_count": null,
      "metadata": {
        "id": "sQIgRFXUdMiY"
      },
      "outputs": [],
      "source": [
        "group2 = df66_67_68[['MINISTRY','AMOUNT','FISCAL_YEAR']].groupby(['FISCAL_YEAR','MINISTRY']).sum().reset_index()\n",
        "group2.info()\n",
        "group2_1 = group2.pivot_table( index='MINISTRY', columns='FISCAL_YEAR', values='AMOUNT')\n",
        "group2_1 = group2_1.reset_index()\n",
        "group2_1['MINISTRY'].unique()"
      ]
    },
    {
      "cell_type": "code",
      "execution_count": null,
      "metadata": {
        "id": "OJeh6O6i1A9g"
      },
      "outputs": [],
      "source": [
        "group3 = group2\n",
        "group3 = group3[group3['MINISTRY'] != 'รายจ่ายเพื่อชดใช้เงินคงคลัง']\n",
        "group3['rank'] = group3.groupby('FISCAL_YEAR')['AMOUNT'].rank(ascending=False)\n",
        "\n",
        "\n",
        "group3['rank'] = group3['rank'].astype(int)\n",
        "group3_1 = group3.pivot_table( index='MINISTRY', columns='FISCAL_YEAR', values='rank')\n",
        "group3_1\n",
        "\n",
        "\n",
        "group3_1[2023] = group3_1[2023].astype(int)\n",
        "group3_1[2024] = group3_1[2024].astype(int)\n",
        "group3_1[2025] = group3_1[2025].astype(int)\n",
        "group3_1['Mean_of_Absolute_change']=(abs(group3_1[2024]-group3_1[2023])+abs(group3_1[2025]-group3_1[2024]))/2\n",
        "group3_1.sort_values(by=[2023,2024,2025])\n",
        "\n",
        "\n",
        "\n",
        "\n",
        "\n"
      ]
    },
    {
      "cell_type": "code",
      "execution_count": null,
      "metadata": {
        "id": "UfK8TFyy2-DV"
      },
      "outputs": [],
      "source": [
        "group2_1['2023_to_2024_Change'] = ((group2_1[2024]-group2_1[2023])/group2_1[2023])*100\n",
        "group2_1['2024_to_2025_Change'] = ((group2_1[2025]-group2_1[2024])/group2_1[2024])*100\n",
        "group2_1 = group2_1.dropna()\n",
        "heat = group2_1.drop(columns=[2023,2024,2025])\n",
        "heat = heat.sort_values(by=['2023_to_2024_Change','2024_to_2025_Change'])\n",
        "heat = heat.reset_index(drop=True)\n",
        "heat.index = range(1, len(heat) + 1)\n",
        "heat_styled = heat.style.background_gradient(cmap='RdYlGn').format(precision=2)\n",
        "heat_styled"
      ]
    },
    {
      "cell_type": "code",
      "execution_count": null,
      "metadata": {
        "id": "E1CAfcBO_CcK"
      },
      "outputs": [],
      "source": [
        "group2_2 = group2.pivot_table( index='MINISTRY', columns='FISCAL_YEAR', values='AMOUNT')\n",
        "group2_2['2023_to_2024_Change'] = group2_2[2024]-group2_2[2023]\n",
        "group2_2['2024_to_2025_Change'] = group2_2[2025]-group2_2[2024]\n",
        "group2_2 = group2_2.drop(columns=[2023,2024,2025])\n",
        "group2_2 = group2_2.dropna()\n",
        "group2_2 = group2_2.sort_values(by=['2023_to_2024_Change','2024_to_2025_Change']).reset_index()\n",
        "group2_2.index = range(1, len(group2_2) + 1)\n",
        "group2_2_styled = group2_2.style \\\n",
        "    .background_gradient(cmap='RdYlGn') \\\n",
        "    .format({\n",
        "        '2023_to_2024_Change': '{:,.2f}',  # จัดฟอร์แมตการเปลี่ยนแปลงปีงบประมาณ\n",
        "        '2024_to_2025_Change': '{:,.2f}'   # จัดฟอร์แมตการเปลี่ยนแปลงปีงบประมาณ\n",
        "    })\n",
        "\n",
        "\n",
        "\n",
        "\n",
        "\n",
        "group2_2_styled"
      ]
    },
    {
      "cell_type": "code",
      "execution_count": null,
      "metadata": {
        "id": "8knAh9P2PAzl"
      },
      "outputs": [],
      "source": [
        "map_df = df66_67_68.loc[\n",
        "    (df66_67_68['MINISTRY'] == 'จังหวัดและกลุ่มจังหวัด') &\n",
        "    (~df66_67_68['BUDGETARY_UNIT'].str.contains('กลุ่มจังหวัดภาค')),\n",
        "    :\n",
        "]\n",
        "map_df['BUDGETARY_UNIT'] = map_df['BUDGETARY_UNIT'].replace('จังหวัดนครสวรรค','จังหวัดนครสวรรค์')\n",
        "map_df['BUDGETARY_UNIT'] = map_df['BUDGETARY_UNIT'].replace('จังหวัดล่าปาง','จังหวัดลำปาง')\n",
        "map_df['BUDGETARY_UNIT'] = map_df['BUDGETARY_UNIT'].replace('จังหวัดสุราษฎ์ธานี','จังหวัดสุราษฎร์ธานี')\n",
        "map_df['BUDGETARY_UNIT'] = map_df['BUDGETARY_UNIT'].replace('จังหวัดหนองบัวล่าภู','จังหวัดหนองบัวลำภู')\n",
        "map_df['BUDGETARY_UNIT'] = map_df['BUDGETARY_UNIT'].replace('จังหวัดล่าพูน','จังหวัดลำพูน')\n",
        "map_df['BUDGETARY_UNIT'] = map_df['BUDGETARY_UNIT'].replace('จังหวัดย','จังหวัดหนองคาย')\n",
        "\n",
        "map_df['BUDGETARY_UNIT'].unique()"
      ]
    },
    {
      "cell_type": "code",
      "execution_count": null,
      "metadata": {
        "id": "ELFqgnU2StL5"
      },
      "outputs": [],
      "source": [
        "groupmap_df = map_df.groupby(['FISCAL_YEAR', 'BUDGETARY_UNIT']).sum('AMOUNT').reset_index()\n",
        "groupmap_df['BUDGETARY_UNIT'] = groupmap_df['BUDGETARY_UNIT'].str.replace('จังหวัด', '', regex=False)\n",
        "groupmap_df"
      ]
    },
    {
      "cell_type": "code",
      "execution_count": null,
      "metadata": {
        "id": "RkxlRa7ZToTY"
      },
      "outputs": [],
      "source": [
        "import json\n",
        "import json\n",
        "\n",
        "# โหลดไฟล์ GeoJSON ของจังหวัดในประเทศไทย\n",
        "try:\n",
        "    with open('thailand-provinces.geojson', 'r', encoding='utf-8') as f:\n",
        "        provinces_geo = json.load(f)\n",
        "\n",
        "    print(\"GeoJSON loaded successfully!\")\n",
        "    print(\"Number of features:\", len(provinces_geo['features']))\n",
        "\n",
        "    # ตรวจสอบข้อมูลแรกใน features\n",
        "    if 'features' in provinces_geo:\n",
        "        first_feature = provinces_geo['features'][0]\n",
        "        print(\"First feature properties:\", first_feature['properties'])\n",
        "except json.JSONDecodeError as e:\n",
        "    print(\"Error loading GeoJSON:\", e)\n",
        "except Exception as e:\n",
        "    print(\"An error occurred:\", e)\n",
        "\n",
        "features = pd.json_normalize(provinces_geo['features'])\n",
        "features['properties.NAME_1'].unique()\n",
        "B1 = {'type':'Feature','properties.NAME_0':'Thailand','properties.NAME_1':'Bueng Kan','properties.ID_1':79,'geometry.type':'Polygon','geometry.coordinates':[[[104.1914672851562,18.020500183105582],[104.14794921875028,18.01201057434082],[104.11399078369169,17.996362686157227],[104.14251708984375,17.953010559081974],[104.12586212158197,17.9237003326416],[104.07554626464844,17.877380371093807],[104.03219604492182,17.907739639282283],[103.99871063232428,17.88594055175787],[103.98927307128918,17.860471725463867],[104.01936340332037,17.80808830261236],[104.00180053710943,17.78559112548828],[103.96311950683622,17.772718429565373],[103.9441986083985,17.781490325927734],[103.9197616577149,17.81702995300293],[103.92793273925781,17.83284187316906],[103.9074783325197,17.87894058227539],[103.85820007324247,17.881202697753963],[103.7969589233399,17.84066963195812],[103.76860046386713,17.87945938110363],[103.78594970703136,17.92358970642084],[103.75621032714838,17.913850784301815],[103.7203521728515,17.93768119812023],[103.6286010742187,17.98085975646984],[103.60929870605497,18.033781051635856],[103.5629272460938,18.060880661010856],[103.51786041259766,18.073650360107365],[103.4964675903322,18.05924987792963],[103.5065307617187,17.997810363769645],[103.47743225097662,18.003730773925724],[103.44138336181646,17.98147010803217],[103.40622711181658,17.989049911499023],[103.3949584960937,18.021299362182617],[103.36289978027355,18.02691078186035],[103.34513854980497,18.047491073608455],[103.31449127197283,18.055549621582088],[103.29483795166033,18.106170654296818],[103.30110168457043,18.151790618896598],[103.33817291259766,18.145561218261776],[103.35848999023466,18.16118049621582],[103.32775115966803,18.202249526977596],[103.28376007080072,18.232488632202205],[103.26888275146479,18.257921218872127],[103.2955932617187,18.271270751953182],[103.30132293701189,18.302431106567496],[103.27942657470703,18.335149765014762],[103.25740814209013,18.33401107788086],[103.24874877929693,18.366689682006836],[103.31510162353516,18.43177986145031],[103.35025024414068,18.431850433349553],[103.41491699218756,18.4461612701416],[103.45947265625,18.42271995544445],[103.5213470458985,18.42387962341303],[103.57594299316418,18.40230941772461],[103.61933135986328,18.39822959899908],[103.70005035400413,18.340360641479492],[103.81086730957054,18.338340759277344],[103.83436584472685,18.327220916748104],[103.85343170166044,18.285520553588924],[103.88066101074224,18.28607940673828],[103.92568969726585,18.325260162353516],[103.97753906250006,18.332412719726562],[104.06485748291033,18.214580535888786],[104.11801910400402,18.102020263671875],[104.1914672851562,18.020500183105582]]]}\n",
        "B1 = pd.DataFrame([B1])\n",
        "features = pd.concat([features, B1], ignore_index=True)\n",
        "features['geometry.coordinates']"
      ]
    },
    {
      "cell_type": "code",
      "execution_count": null,
      "metadata": {
        "id": "FyyvXwdxW3oi"
      },
      "outputs": [],
      "source": [
        "# สร้างพจนานุกรมสำหรับจังหวัดในประเทศไทย\n",
        "province_dict = {\n",
        "    'กระบี่': 'Krabi',\n",
        "    'กรุงเทพมหานคร': 'Bangkok Metropolis',\n",
        "    'กาญจนบุรี': 'Kanchanaburi',\n",
        "    'กาฬสินธุ์': 'Kalasin',\n",
        "    'กำแพงเพชร': 'Kamphaeng Phet',\n",
        "    'ขอนแก่น': 'Khon Kaen',\n",
        "    'จันทบุรี': 'Chanthaburi',\n",
        "    'ฉะเชิงเทรา': 'Chachoengsao',\n",
        "    'ชลบุรี': 'Chon Buri',\n",
        "    'ชัยนาท': 'Chai Nat',\n",
        "    'ชัยภูมิ': 'Chaiyaphum',\n",
        "    'ชุมพร': 'Chumphon',\n",
        "    'เชียงราย': 'Chiang Rai',\n",
        "    'เชียงใหม่': 'Chiang Mai',\n",
        "    'ตรัง': 'Trang',\n",
        "    'ตราด': 'Trat',\n",
        "    'ตาก': 'Tak',\n",
        "    'นครนายก': 'Nakhon Nayok',\n",
        "    'นครปฐม': 'Nakhon Pathom',\n",
        "    'นครพนม': 'Nakhon Phanom',\n",
        "    'นครราชสีมา': 'Nakhon Ratchasima',\n",
        "    'นครศรีธรรมราช': 'Nakhon Si Thammarat',\n",
        "    'นครสวรรค์': 'Nakhon Sawan',\n",
        "    'นนทบุรี': 'Nonthaburi',\n",
        "    'นราธิวาส': 'Narathiwat',\n",
        "    'น่าน': 'Nan',\n",
        "    'บึงกาฬ': 'Bueng Kan',\n",
        "    'บุรีรัมย์': 'Buri Ram',\n",
        "    'ปทุมธานี': 'Pathum Thani',\n",
        "    'ประจวบคีรีขันธ์': 'Prachuap Khiri Khan',\n",
        "    'ปราจีนบุรี': 'Prachin Buri',\n",
        "    'ปัตตานี': 'Pattani',\n",
        "    'พระนครศรีอยุธยา': 'Phra Nakhon Si Ayutthaya',\n",
        "    'พะเยา': 'Phayao',\n",
        "    'พังงา': 'Phangnga',\n",
        "    'พัทลุง': 'Phatthalung',\n",
        "    'พิจิตร': 'Phichit',\n",
        "    'พิษณุโลก': 'Phitsanulok',\n",
        "    'เพชรบุรี': 'Phetchaburi',\n",
        "    'เพชรบูรณ์': 'Phetchabun',\n",
        "    'แพร่': 'Phrae',\n",
        "    'ภูเก็ต': 'Phuket',\n",
        "    'มหาสารคาม': 'Maha Sarakham',\n",
        "    'มุกดาหาร': 'Mukdahan',\n",
        "    'แม่ฮ่องสอน': 'Mae Hong Son',\n",
        "    'ยะลา': 'Yala',\n",
        "    'ยโสธร': 'Yasothon',\n",
        "    'ร้อยเอ็ด': 'Roi Et',\n",
        "    'ระนอง': 'Ranong',\n",
        "    'ระยอง': 'Rayong',\n",
        "    'ราชบุรี': 'Ratchaburi',\n",
        "    'ลพบุรี': 'Lop Buri',\n",
        "    'ลำปาง': 'Lampang',\n",
        "    'ลำพูน': 'Lamphun',\n",
        "    'เลย': 'Loei',\n",
        "    'ศรีสะเกษ': 'Si Sa Ket',\n",
        "    'สกลนคร': 'Sakon Nakhon',\n",
        "    'สงขลา': 'Songkhla',\n",
        "    'สตูล': 'Satun',\n",
        "    'สมุทรปราการ': 'Samut Prakan',\n",
        "    'สมุทรสงคราม': 'Samut Songkhram',\n",
        "    'สมุทรสาคร': 'Samut Sakhon',\n",
        "    'สระแก้ว': 'Sa Kaeo',\n",
        "    'สระบุรี': 'Saraburi',\n",
        "    'สิงห์บุรี': 'Sing Buri',\n",
        "    'สุโขทัย': 'Sukhothai',\n",
        "    'สุพรรณบุรี': 'Suphan Buri',\n",
        "    'สุราษฎร์ธานี': 'Surat Thani',\n",
        "    'สุรินทร์': 'Surin',\n",
        "    'หนองคาย': 'Nong Khai',\n",
        "    'หนองบัวลำภู': 'Nong Bua Lam Phu',\n",
        "    'อ่างทอง': 'Ang Thong',\n",
        "    'อุดรธานี': 'Udon Thani',\n",
        "    'อุทัยธานี': 'Uthai Thani',\n",
        "    'อุตรดิตถ์': 'Uttaradit',\n",
        "    'อุบลราชธานี': 'Ubon Ratchathani',\n",
        "    'อำนาจเจริญ': 'Amnat Charoen'\n",
        "}\n",
        "\n",
        "\n",
        "province_df = pd.DataFrame(list(province_dict.items()), columns=['province_thai', 'province_eng'])\n",
        "pfmerge= pd.merge( province_df, features, left_on='province_eng', right_on='properties.NAME_1' )\n",
        "pfmerge_2 =  pd.merge( groupmap_df, pfmerge, left_on='BUDGETARY_UNIT', right_on='province_thai' )\n",
        "pfmerge_2"
      ]
    },
    {
      "cell_type": "code",
      "execution_count": null,
      "metadata": {
        "id": "FuBpipiQfbgD"
      },
      "outputs": [],
      "source": [
        "pivlot_pfmerge_2 = pfmerge_2.pivot_table(index='BUDGETARY_UNIT',columns='FISCAL_YEAR',values='AMOUNT',aggfunc='sum'  ).reset_index()\n",
        "pivlot_pfmerge_2= pd.merge( pivlot_pfmerge_2, pfmerge, left_on='BUDGETARY_UNIT', right_on='province_thai' )\n",
        "pivlot_pfmerge_2\n",
        "pivlot_pfmerge_2.columns = pivlot_pfmerge_2.columns.astype(str)\n",
        "pivlot_pfmerge_2"
      ]
    },
    {
      "cell_type": "code",
      "execution_count": null,
      "metadata": {
        "id": "sDwa6Zz-zunC"
      },
      "outputs": [],
      "source": [
        "import geopandas as gpd\n",
        "import json\n",
        "\n",
        "# โหลด GeoJSON\n",
        "with open('thailand-provinces.geojson', encoding='utf-8') as f:\n",
        "    features = json.load(f)\n",
        "\n",
        "# แปลง GeoJSON เป็น GeoDataFrame\n",
        "geopan1 = gpd.GeoDataFrame.from_features(features['features'])\n",
        "\n"
      ]
    },
    {
      "cell_type": "code",
      "execution_count": null,
      "metadata": {
        "colab": {
          "background_save": true
        },
        "id": "gnKRUt1KxhXQ"
      },
      "outputs": [],
      "source": [
        "variable_list = ['2023', '2024', '2025']\n",
        "alt.Chart(geopan1).mark_geoshape().encode(\n",
        "    tooltip=[\n",
        "        alt.Tooltip('NAME_1:N', title='Province'),\n",
        "        alt.Tooltip(alt.repeat('row'), title='Value',format=\",.2f\")\n",
        "    ],\n",
        "    color=alt.Color(alt.repeat('row'), type='quantitative')  # เปลี่ยนเป็น color=\n",
        ").transform_lookup(\n",
        "    lookup='NAME_1',\n",
        "    from_=alt.LookupData(pivlot_pfmerge_2, 'province_eng', variable_list)\n",
        ").properties(\n",
        "    width=500,\n",
        "    height=300\n",
        ").project(\n",
        "    type='mercator'\n",
        ").repeat(\n",
        "    row=variable_list\n",
        ").resolve_scale(\n",
        "    color='independent'\n",
        ")\n"
      ]
    },
    {
      "cell_type": "code",
      "execution_count": null,
      "metadata": {
        "colab": {
          "background_save": true
        },
        "id": "ziH42ZIC2jsf"
      },
      "outputs": [],
      "source": [
        "df66_67_68['BUDGETARY_UNIT'].count()"
      ]
    },
    {
      "cell_type": "code",
      "execution_count": null,
      "metadata": {
        "colab": {
          "background_save": true
        },
        "id": "vJ_OvmT9eiAZ"
      },
      "outputs": [],
      "source": [
        "map_df2 = df66_67_68.loc[\n",
        "    (df66_67_68['MINISTRY'] == 'องค์กรปกครองส่วนท้องถิ่น') &\n",
        "    (~df66_67_68['BUDGETARY_UNIT'].str.contains('เทศบาล')) & (~df66_67_68['BUDGETARY_UNIT'].str.contains('พัทยา')),\n",
        "    :\n",
        "]\n",
        "\n",
        "map_df2['BUDGETARY_UNIT'] = map_df2['BUDGETARY_UNIT'].replace('องค์การบริหารส่วนจังหวัดอุบลฯ','อุบลราชธานี')\n",
        "map_df2['BUDGETARY_UNIT'] = map_df2['BUDGETARY_UNIT'].replace('องค์การบริการส่วนจังหวัดกระบี่','กระบี่')\n",
        "\n",
        "\n",
        "map_df2['BUDGETARY_UNIT'] = map_df2['BUDGETARY_UNIT'].str.replace('องค์การบริหารส่วนจังหวัด', '', regex=False)\n",
        "map_df2['BUDGETARY_UNIT'] = map_df2['BUDGETARY_UNIT'].replace('กระบี','กระบี่')\n",
        "\n",
        "pfmerge_4 =  pd.merge( map_df2, pfmerge, left_on='BUDGETARY_UNIT', right_on='province_thai' )\n",
        "pfmerge_4\n",
        "\n",
        "pivlot_pfmerge_4 = pfmerge_4.pivot_table(index='BUDGETARY_UNIT',columns='FISCAL_YEAR',values='AMOUNT',aggfunc='sum'  ).reset_index()\n",
        "pivlot_pfmerge_4= pd.merge( pivlot_pfmerge_4, pfmerge, left_on='BUDGETARY_UNIT', right_on='province_thai' )\n",
        "pivlot_pfmerge_4\n",
        "pivlot_pfmerge_4.columns = pivlot_pfmerge_4.columns.astype(str)\n",
        "pivlot_pfmerge_4_local_withB = pivlot_pfmerge_4\n",
        "pivlot_pfmerge_4_local_withoutB  = pivlot_pfmerge_4[pivlot_pfmerge_4['province_thai'] != 'กรุงเทพมหานคร']\n",
        "pivlot_pfmerge_4_local_withonlyB = pivlot_pfmerge_4[pivlot_pfmerge_4['province_thai'] == 'กรุงเทพมหานคร']\n",
        "pivlot_pfmerge_4['BUDGETARY_UNIT'].unique()"
      ]
    },
    {
      "cell_type": "code",
      "execution_count": null,
      "metadata": {
        "colab": {
          "background_save": true
        },
        "id": "FRhJiRrPhnyz"
      },
      "outputs": [],
      "source": [
        "\n",
        "# สร้างกราฟสำหรับมีกรุงเทพฯ\n",
        "variable_list = ['2023', '2024', '2025']\n",
        "local_with_bangkok = alt.Chart(geopan1).mark_geoshape().encode(\n",
        "    tooltip=[\n",
        "        alt.Tooltip('NAME_1:N', title='Province'),\n",
        "        alt.Tooltip(alt.repeat('row'), title='Value',format=\",.2f\")\n",
        "    ],\n",
        "    color=alt.Color(alt.repeat('row'), type='quantitative')  # เปลี่ยนเป็น color=\n",
        ").transform_lookup(\n",
        "    lookup='NAME_1',\n",
        "    from_=alt.LookupData(pivlot_pfmerge_4_local_withB, 'province_eng', variable_list)\n",
        ").properties(\n",
        "    width=500,\n",
        "    height=300\n",
        ").project(\n",
        "    type='mercator'\n",
        ").repeat(\n",
        "    row=variable_list\n",
        ").resolve_scale(\n",
        "    color='independent'\n",
        ").properties(\n",
        "    title='Local and Bangkok '\n",
        ").configure_title(\n",
        "    fontSize=20,  # เปลี่ยนขนาดตัวอักษร\n",
        "    anchor='middle'  # จัดตำแหน่งชื่อให้อยู่กลาง\n",
        ")\n",
        "\n",
        "local_with_bangkok\n"
      ]
    },
    {
      "cell_type": "code",
      "execution_count": null,
      "metadata": {
        "colab": {
          "background_save": true
        },
        "id": "cwwnmu29lTgv"
      },
      "outputs": [],
      "source": [
        "local_without_bangkok = alt.Chart(geopan1).mark_geoshape().encode(\n",
        "    tooltip=[\n",
        "        alt.Tooltip('NAME_1:N', title='Province'),\n",
        "        alt.Tooltip(alt.repeat('row'), title='Value',format=\",.2f\")\n",
        "    ],\n",
        "    color=alt.Color(alt.repeat('row'), type='quantitative')  # เปลี่ยนเป็น color=\n",
        ").transform_lookup(\n",
        "    lookup='NAME_1',\n",
        "    from_=alt.LookupData(pivlot_pfmerge_4_local_withoutB, 'province_eng', variable_list)\n",
        ").properties(\n",
        "    width=500,\n",
        "    height=300\n",
        ").project(\n",
        "    type='mercator'\n",
        ").repeat(\n",
        "    row=variable_list\n",
        ").resolve_scale(\n",
        "    color='independent'\n",
        ").properties(\n",
        "    title='Only Local '\n",
        ").configure_title(\n",
        "    fontSize=20,  # เปลี่ยนขนาดตัวอักษร\n",
        "    anchor='middle'  # จัดตำแหน่งชื่อให้อยู่กลาง\n",
        ")\n",
        "local_without_bangkok"
      ]
    },
    {
      "cell_type": "code",
      "execution_count": null,
      "metadata": {
        "colab": {
          "background_save": true
        },
        "id": "DifxYxGHldH-"
      },
      "outputs": [],
      "source": [
        "local_only_bangkok = alt.Chart(geopan1).mark_geoshape().encode(\n",
        "    tooltip=[\n",
        "        alt.Tooltip('NAME_1:N', title='Province'),\n",
        "        alt.Tooltip(alt.repeat('row'), title='Value',format=\",.2f\")\n",
        "    ],\n",
        "    color=alt.Color(alt.repeat('row'), type='quantitative')  # เปลี่ยนเป็น color=\n",
        ").transform_lookup(\n",
        "    lookup='NAME_1',\n",
        "    from_=alt.LookupData(pivlot_pfmerge_4_local_withonlyB, 'province_eng', variable_list)\n",
        ").properties(\n",
        "    width=500,\n",
        "    height=300\n",
        ").project(\n",
        "    type='mercator'\n",
        ").repeat(\n",
        "    row=variable_list\n",
        ").resolve_scale(\n",
        "    color='independent'\n",
        ").properties(\n",
        "    title='Only Bangkok '\n",
        ").configure_title(\n",
        "    fontSize=20,  # เปลี่ยนขนาดตัวอักษร\n",
        "    anchor='middle'  # จัดตำแหน่งชื่อให้อยู่กลาง\n",
        ")\n",
        "local_only_bangkok"
      ]
    },
    {
      "cell_type": "code",
      "execution_count": null,
      "metadata": {
        "colab": {
          "background_save": true
        },
        "id": "bu9TjW64tA3R"
      },
      "outputs": [],
      "source": [
        "provincedata = pivlot_pfmerge_4_local_withB.loc[:,['BUDGETARY_UNIT','2023','2024','2025']]\n",
        "provincedata['2023_rank']= provincedata['2023'].rank(ascending=False)\n",
        "provincedata['2024_rank']= provincedata['2024'].rank(ascending=False)\n",
        "provincedata['2025_rank']= provincedata['2025'].rank(ascending=False)\n",
        "provincedata['2023_rank']= provincedata['2023_rank'].astype(int)\n",
        "provincedata['2024_rank']= provincedata['2024_rank'].astype(int)\n",
        "provincedata['2025_rank']= provincedata['2025_rank'].astype(int)\n",
        "provincedata = provincedata.sort_values(by=['2023_rank','2024_rank','2025_rank'])\n",
        "provincedata\n",
        "\n"
      ]
    },
    {
      "cell_type": "code",
      "execution_count": null,
      "metadata": {
        "colab": {
          "background_save": true
        },
        "collapsed": true,
        "id": "__E9sIXwzJNQ"
      },
      "outputs": [],
      "source": [
        "pivlot_pfmerge_2\n",
        "pivlot_pfmerge_2rank = pivlot_pfmerge_2.loc[:,['BUDGETARY_UNIT','2023','2024','2025']]\n",
        "\n",
        "\n",
        "pivlot_pfmerge_2rank['2023_rank']= pivlot_pfmerge_2rank['2023'].rank(ascending=False)\n",
        "pivlot_pfmerge_2rank['2024_rank']= pivlot_pfmerge_2rank['2024'].rank(ascending=False)\n",
        "pivlot_pfmerge_2rank['2025_rank']= pivlot_pfmerge_2rank['2025'].rank(ascending=False)\n",
        "pivlot_pfmerge_2rank['2023_rank']= pivlot_pfmerge_2rank['2023_rank'].astype(int)\n",
        "pivlot_pfmerge_2rank['2024_rank']= pivlot_pfmerge_2rank['2024_rank'].astype(int)\n",
        "pivlot_pfmerge_2rank['2025_rank']= pivlot_pfmerge_2rank['2025_rank'].astype(int)\n",
        "pivlot_pfmerge_2rank['2023_2024_change'] = (pivlot_pfmerge_2rank['2024']-pivlot_pfmerge_2rank['2023'])/pivlot_pfmerge_2rank['2023']*100\n",
        "pivlot_pfmerge_2rank['2024_2025_change'] = (pivlot_pfmerge_2rank['2025']-pivlot_pfmerge_2rank['2024'])/pivlot_pfmerge_2rank['2024']*100\n",
        "\n",
        "\n",
        "#pivlot_pfmerge_2rank = pivlot_pfmerge_2rank.loc[:,['BUDGETARY_UNIT','2023_rank','2024_rank','2025_rank']]\n",
        "pivlot_pfmerge_2rank['Mean_of_Absolute_change']= (abs(pivlot_pfmerge_2rank['2024_rank']-pivlot_pfmerge_2rank['2023_rank'])+abs(pivlot_pfmerge_2rank['2025_rank']-pivlot_pfmerge_2rank['2024_rank']))/2\n",
        "pivlot_pfmerge_2rank.sort_values(by=['2023_rank'])"
      ]
    },
    {
      "cell_type": "code",
      "execution_count": null,
      "metadata": {
        "colab": {
          "background_save": true
        },
        "id": "zrYcdN5Um_MC"
      },
      "outputs": [],
      "source": [
        "df66_67_68['BUDGET_PLAN'] = df66_67_68['BUDGET_PLAN'].replace('แผนงานบูรณาการบริหารจัดการทรัพยากรน้ำ บาท','แผนงานบูรณาการบริหารจัดการทรัพยากรน้ำ')\n",
        "df66_67_68['BUDGET_PLAN'] = df66_67_68['BUDGET_PLAN'].replace('แผนงานบูรณาการป้องกัน ปราบปราม และแก้ไขปัญหายาเสพติด','แผนงานบูรณาการป้องกัน ปราบปราม และบำบัดรักษาผู้ติดยาเสพติด')\n",
        "df66_67_68['BUDGET_PLAN'] = df66_67_68['BUDGET_PLAN'].replace('แผนงานบูรณาการป้องกันปราบปรามและบำบัดรักษาผู้ติดยาเสพติด','แผนงานบูรณาการป้องกัน ปราบปราม และบำบัดรักษาผู้ติดยาเสพติด')\n",
        "df66_67_68['BUDGET_PLAN'] = df66_67_68['BUDGET_PLAN'].replace('แผนงานบูรณาการพัฒนาและส่งเสริมเศรษฐกิจฐานราก','แผนงานยุทธศาสตร์พัฒนาและส่งเสริมเศรษฐกิจฐานราก')\n",
        "df66_67_68['BUDGET_PLAN'] = df66_67_68['BUDGET_PLAN'].replace('แผนงานยุทธศาสตร์การส่งเสริมวิสาหกิจขนาดกลางและขนาดย่อม ที่เข้มแข็ง แข่งขันได้','แผนงานยุทธศาสตร์การส่งเสริมวิสาหกิจขนาดกลางและขนาดย่อมที่เข้มแข็ง แข่งขันได้')\n",
        "df66_67_68['BUDGET_PLAN'] = df66_67_68['BUDGET_PLAN'].replace('แผนงานยุทธศาสตร์การส่งเสริมวิสาหกิจขนาดกลางและขนาดย่อมที่เข้มแข็ง','แผนงานยุทธศาสตร์การส่งเสริมวิสาหกิจขนาดกลางและขนาดย่อมที่เข้มแข็ง แข่งขันได้')\n",
        "df66_67_68['BUDGET_PLAN'] = df66_67_68['BUDGET_PLAN'].replace('แผนงานยุทธศาสตร์การส่งเสริมวิสาหกิจขนาดกลางและขนาดย่อมที่เข้มแข็งแข่งขันได้','แผนงานยุทธศาสตร์การส่งเสริมวิสาหกิจขนาดกลางและขนาดย่อมที่เข้มแข็ง แข่งขันได้')\n",
        "df66_67_68['BUDGET_PLAN'] = df66_67_68['BUDGET_PLAN'].replace('แผนงานยุทธศาสตร์ปรับเปลี่ยนค่านิยมและวัฒนธรรม 138,799,900','แผนงานยุทธศาสตร์ปรับเปลี่ยนค่านิยมและวัฒนธรรม')\n",
        "df66_67_68['BUDGET_PLAN'] = df66_67_68['BUDGET_PLAN'].replace('แผนงานยุทธศาสตร์พัฒนาศักยภาพการป้องกันประเทศ','แผนงานยุทธศาสตร์พัฒนาศักยภาพการป้องกันประเทศ และความพร้อมเผชิญภัยคุกคามทุกมิติ')\n",
        "df66_67_68['BUDGET_PLAN'] = df66_67_68['BUDGET_PLAN'].replace('แผนงานยุทธศาสตร์พัฒนาและเสริมสร้างการเมืองในระบอบประชาธิปไตย','แผนงานยุทธศาสตร์พัฒนาและเสริมสร้างการเมืองในระบอบประชาธิปไตยอันมีพระมหากษัตริย์ทรงเป็นประมุข')\n",
        "df66_67_68['BUDGET_PLAN'] = df66_67_68['BUDGET_PLAN'].replace('แผนงานยุทธศาสตร์พัฒนาและเสริมสร้างการเมืองในระบอบประชาธิปไตย อันมีพระมหากษัตริย์ทรงเป็นประมุข','แผนงานยุทธศาสตร์พัฒนาและเสริมสร้างการเมืองในระบอบประชาธิปไตยอันมีพระมหากษัตริย์ทรงเป็นประมุข')\n",
        "df66_67_68['BUDGET_PLAN'] = df66_67_68['BUDGET_PLAN'].replace('แผนงานยุทธศาสตร์พัฒนาและเสริมสร้างการเมืองในระบอบประชาธิปไตยอันมีพระมหากษัตริย์','แผนงานยุทธศาสตร์พัฒนาและเสริมสร้างการเมืองในระบอบประชาธิปไตยอันมีพระมหากษัตริย์ทรงเป็นประมุข')\n",
        "df66_67_68['BUDGET_PLAN'] = df66_67_68['BUDGET_PLAN'].replace('แผนงานยุทธศาสตร์บริหารจัดการทรัพยากรน้ำ','แผนงานบูรณาการบริหารจัดการทรัพยากรน้ำ')\n",
        "df66_67_68['BUDGET_PLAN'] = df66_67_68['BUDGET_PLAN'].replace('แผนงานยุทธศาสตร์เสริมสร้างประสิทธิภาพการบริหารจัดการทรัพยากรน้ำ','แผนงานบูรณาการบริหารจัดการทรัพยากรน้ำ')\n",
        "df66_67_68['BUDGET_PLAN'] = df66_67_68['BUDGET_PLAN'].replace('แผนงานยุทธศาสตร์พัฒนาด้านคมนาคมและระบบโลจิสติกส์','แผนงานบูรณาการพัฒนาด้านคมนาคมและระบบโลจิสติกส์')\n",
        "df66_67_68['BUDGET_PLAN'] = df66_67_68['BUDGET_PLAN'].replace('แผนงานยุทธศาสตร์ยกระดับกระบวนทัศน์เพื่อกำหนดอนาคตประเทศด้านทรัพยากรธรรมชาติ และสิ่งแวดล้อม','แผนงานยุทธศาสตร์ยกระดับกระบวนทัศน์เพื่อกำหนดอนาคตประเทศด้านทรัพยากรธรรมชาติ')\n",
        "df66_67_68['BUDGET_PLAN'] = df66_67_68['BUDGET_PLAN'].replace('แผนงานยุทธศาสตร์ยกระดับกระบวนทัศน์เพื่อกำหนดอนาคตประเทศด้านทรัพยากรธรรมชาติและสิ่งแวดล้อม','แผนงานยุทธศาสตร์ยกระดับกระบวนทัศน์เพื่อกำหนดอนาคตประเทศด้านทรัพยากรธรรมชาติ')\n",
        "df66_67_68['BUDGET_PLAN'] = df66_67_68['BUDGET_PLAN'].replace('แผนงานยุทธศาสตร์สร้างการเติบโตอย่างยั่งยืน อนุรักษ์ ฟื้นฟู และป้องกัน การทำลายทรัพยากรธรรมชาติ','แผนงานยุทธศาสตร์สร้างการเติบโตอย่างยั่งยืน อนุรักษ์ ฟื้นฟู และป้องกันการทำลายทรัพยากรธรรมชาติ')\n",
        "df66_67_68['BUDGET_PLAN'] = df66_67_68['BUDGET_PLAN'].replace('แผนงานยุทธศาสตร์สร้างการเติบโตอย่างยั่งยืน อนุรักษ์ ฟื้นฟู และป้องกันการทำลาย ทรัพยากรธรรมชาติ','แผนงานยุทธศาสตร์สร้างการเติบโตอย่างยั่งยืน อนุรักษ์ ฟื้นฟู และป้องกันการทำลายทรัพยากรธรรมชาติ')\n",
        "df66_67_68['BUDGET_PLAN'] = df66_67_68['BUDGET_PLAN'].replace('แผนงานยุทธศาสตร์สร้างการเติบโตอย่างยั่งยืน อนุรักษ์ ฟื้นฟู และป้องกันการทำลายทรัพยากรธรรมชาติ','แผนงานยุทธศาสตร์สร้างการเติบโตอย่างยั่งยืน อนุรักษ์ ฟื้นฟู และป้องกันการทำลายทรัพยากรธรรมชาติ')\n",
        "df66_67_68['BUDGET_PLAN'] = df66_67_68['BUDGET_PLAN'].replace('แผนงานยุทธศาสตร์สร้างการเติบโตอย่างยั่งยืนอนุรักษ์ฟื้นฟูและป้องกันการทำลายทรัพยากรธรรมชาติ','แผนงานยุทธศาสตร์สร้างการเติบโตอย่างยั่งยืน อนุรักษ์ ฟื้นฟู และป้องกันการทำลายทรัพยากรธรรมชาติ')\n",
        "df66_67_68['BUDGET_PLAN'] = df66_67_68['BUDGET_PLAN'].replace('แผนงานยุทธศาสตร์เพื่อสนับสนุนด้านการสร้างการเติบโตบนคุณภาพชีวิตที่เป็นมิตร ต่อสิ่งแวดล้อม','แผนงานยุทธศาสตร์เพื่อสนับสนุนด้านการสร้างการเติบโตบนคุณภาพชีวิตที่เป็นมิตรต่อสิ่งแวดล้อม')\n",
        "df66_67_68['BUDGET_PLAN'] = df66_67_68['BUDGET_PLAN'].replace('แผนงานยุทธศาสตร์เพื่อสนับสนุนด้านการสร้างโอกาส และความเสมอภาคทางสังคม','แผนงานยุทธศาสตร์เพื่อสนับสนุนด้านการสร้างโอกาสและความเสมอภาคทางสังคม')\n",
        "df66_67_68['BUDGET_PLAN'] = df66_67_68['BUDGET_PLAN'].replace('แผนงานพื้นฐานด้านการปรับสมดุลและพัฒนาระบบการบริหารจัดการภาครัฐ','แผนงานยุทธศาสตร์เพื่อสนับสนุนด้านการปรับสมดุลและพัฒนาระบบการบริหารจัดการภาครัฐ')\n",
        "\n",
        "df66_67_68['BUDGET_PLAN'].unique()\n",
        "plan_df = df66_67_68.pivot_table(index='BUDGET_PLAN',\n",
        "                                  columns='FISCAL_YEAR',\n",
        "                                  values='AMOUNT',\n",
        "                                  aggfunc='sum').reset_index()\n",
        "plan_df['BUDGET_PLAN'].unique()"
      ]
    },
    {
      "cell_type": "code",
      "execution_count": null,
      "metadata": {
        "colab": {
          "background_save": true
        },
        "id": "iD8W3PTe0K6w"
      },
      "outputs": [],
      "source": [
        "plan_df.sort_values(by=2023,ascending=False)"
      ]
    },
    {
      "cell_type": "code",
      "execution_count": null,
      "metadata": {
        "colab": {
          "background_save": true
        },
        "id": "9Fk1PfWi6hu2"
      },
      "outputs": [],
      "source": [
        "# จัดเรียง DataFrame ตามปี 2023\n",
        "sorted_plan_df = plan_df.sort_values(by=2023, ascending=False)\n",
        "\n",
        "# เก็บแค่ 5 แถวแรก\n",
        "top_5 = sorted_plan_df.head(9)\n",
        "\n",
        "# รวมแถวที่เหลือเป็น \"Other\"\n",
        "other_row = sorted_plan_df.iloc[5:].sum(numeric_only=True).to_frame().T\n",
        "other_row['BUDGET_PLAN'] = 'Other'  # เปลี่ยนชื่อเป็น 'Other'\n",
        "\n",
        "# รวม DataFrame ทั้งสอง\n",
        "result_df = pd.concat([top_5, other_row], ignore_index=True)\n",
        "result_df.columns = result_df.columns.astype(str)\n",
        "\n",
        "# แสดงผล\n",
        "result_df\n"
      ]
    },
    {
      "cell_type": "code",
      "execution_count": null,
      "metadata": {
        "colab": {
          "background_save": true
        },
        "id": "Xvd4zhiwEapo"
      },
      "outputs": [],
      "source": [
        "#"
      ]
    },
    {
      "cell_type": "code",
      "execution_count": null,
      "metadata": {
        "colab": {
          "background_save": true
        },
        "id": "CTEZDCS87hI_"
      },
      "outputs": [],
      "source": [
        "bar_chart1 = alt.Chart(result_df).mark_bar().encode(\n",
        "    x=alt.X('BUDGET_PLAN:O', title='Budget Plan',sort=alt.EncodingSortField(field='2023', order='descending')),\n",
        "    y=alt.Y('2023:Q', title='Amount'),\n",
        "    color=alt.Color('BUDGET_PLAN:N', title='Fiscal Year'),\n",
        "     tooltip=[\n",
        "        alt.Tooltip('BUDGET_PLAN:O', title='Budget Plan'),\n",
        "        alt.Tooltip('2023:Q', title='Amount', format=',')]\n",
        ").properties(\n",
        "    width=800,\n",
        "    height=400,\n",
        "         title={\n",
        "        \"text\": [\"2023\"],  # ข้อความ Title\n",
        "        \"fontSize\": 16,  # ขนาดตัวอักษร\n",
        "        \"anchor\": \"middle\",  # จัดให้อยู่กลาง\n",
        "        \"fontWeight\": \"bold\"  # หนักตัวอักษร\n",
        "    }\n",
        ")\n",
        "bar_chart2 = alt.Chart(result_df).mark_bar().encode(\n",
        "    x=alt.X('BUDGET_PLAN:O', title='Budget Plan',sort=alt.EncodingSortField(field='2024', order='descending')),\n",
        "    y=alt.Y('2024:Q', title='Amount'),\n",
        "    color=alt.Color('BUDGET_PLAN:N', title='Fiscal Year'),\n",
        "     tooltip=[\n",
        "        alt.Tooltip('BUDGET_PLAN:O', title='Budget Plan'),\n",
        "        alt.Tooltip('2024:Q', title='Amount', format=',')]\n",
        ").properties(\n",
        "    width=800,\n",
        "    height=400,\n",
        "         title={\n",
        "        \"text\": [\"2024\"],  # ข้อความ Title\n",
        "        \"fontSize\": 16,  # ขนาดตัวอักษร\n",
        "        \"anchor\": \"middle\",  # จัดให้อยู่กลาง\n",
        "        \"fontWeight\": \"bold\"  # หนักตัวอักษร\n",
        "    }\n",
        ")\n",
        "bar_chart3 = alt.Chart(result_df).mark_bar().encode(\n",
        "    x=alt.X('BUDGET_PLAN:O', title='Budget Plan',sort=alt.EncodingSortField(field='2025', order='descending')),\n",
        "    y=alt.Y('2025:Q', title='Amount'),\n",
        "    color=alt.Color('BUDGET_PLAN:N', title='Fiscal Year'),\n",
        "     tooltip=[\n",
        "        alt.Tooltip('BUDGET_PLAN:O', title='Budget Plan'),\n",
        "        alt.Tooltip('2025:Q', title='Amount', format=',')]\n",
        ").properties(\n",
        "    width=800,\n",
        "    height=400,\n",
        "     title={\n",
        "        \"text\": [\"2025\"],  # ข้อความ Title\n",
        "        \"fontSize\": 16,  # ขนาดตัวอักษร\n",
        "        \"anchor\": \"middle\",  # จัดให้อยู่กลาง\n",
        "        \"fontWeight\": \"bold\"  # หนักตัวอักษร\n",
        "    }\n",
        ")\n",
        "bar_chart1|bar_chart2|bar_chart3"
      ]
    },
    {
      "cell_type": "code",
      "execution_count": null,
      "metadata": {
        "colab": {
          "background_save": true
        },
        "id": "iN_Tf1n-A7Kv"
      },
      "outputs": [],
      "source": [
        "local1 = map_df2[map_df2['FISCAL_YEAR'] == 2024]\n",
        "\n",
        "local1\n"
      ]
    },
    {
      "cell_type": "code",
      "execution_count": null,
      "metadata": {
        "colab": {
          "background_save": true
        },
        "id": "A-fdCXWmXh97"
      },
      "outputs": [],
      "source": [
        "local1PI = local1.pivot_table(index='ITEM_DESCRIPTION', columns='FISCAL_YEAR', values='AMOUNT', aggfunc='sum').reset_index()\n",
        "local1PI.columns = local1PI.columns.astype(str)\n",
        "\n",
        "local1PI"
      ]
    },
    {
      "cell_type": "code",
      "execution_count": null,
      "metadata": {
        "colab": {
          "background_save": true
        },
        "id": "V3btxoJMXD56"
      },
      "outputs": [],
      "source": [
        "import pandas as pd\n",
        "import altair as alt\n",
        "\n",
        "# สมมติว่า local1 เป็น DataFrame ของคุณ\n",
        "# เลือกข้อมูลที่มีจำนวนสูงสุด 5 อันดับแรก\n",
        "top5 = local1PI.nlargest(10, '2024')\n",
        "\n",
        "# สร้างกราฟ bar chart ด้วย Altair\n",
        "chart = alt.Chart(top5).mark_bar().encode(\n",
        "    x=alt.X('ITEM_DESCRIPTION:O', sort=alt.SortField('AMOUNT', order='descending')),\n",
        "    y='2024',\n",
        "    color='ITEM_DESCRIPTION',  # สีตาม ITEM_DESCRIPTION\n",
        "    tooltip=[\n",
        "        alt.Tooltip('ITEM_DESCRIPTION', title='Item Description'),\n",
        "        alt.Tooltip('2024:Q', title='Total Amount', format=',')  # ใช้ format=',' เพื่อใส่ลูกน้ำ\n",
        "    ]\n",
        ").properties(\n",
        "    width=800,  # กำหนดความกว้าง\n",
        "    height=400,  # กำหนดความสูง\n",
        "    title=alt.TitleParams(\n",
        "        text='ปี 2024 องค์กรปกครองส่วนท้องถิ่นใช้เงินไปกับอะไรไปมากที่สุด 10 อันดับแรก',  # กำหนดชื่อกราฟ\n",
        "        anchor='middle',  # จัดตำแหน่งชื่อกราฟให้อยู่ตรงกลาง\n",
        "        fontSize=20,  # ปรับขนาดตัวอักษร\n",
        "        fontWeight='bold'  # ทำตัวอักษรให้หนา\n",
        "    )\n",
        ")\n",
        "\n",
        "\n",
        "\n",
        "chart\n"
      ]
    },
    {
      "cell_type": "code",
      "execution_count": null,
      "metadata": {
        "colab": {
          "background_save": true
        },
        "id": "zooERDYTdWvR"
      },
      "outputs": [],
      "source": [
        "cenb = df66_67_68[df66_67_68['BUDGETARY_UNIT'] == 'งบกลาง']\n",
        "cenb['ITEM_DESCRIPTION'] = cenb['ITEM_DESCRIPTION'].replace('เงินสำรองจ่ายเพื่อกรณีฉุกเฉินหรือจ าเป็น','เงินสำรองจ่ายเพื่อกรณีฉุกเฉินหรือจำเป็น')\n",
        "cenb['ITEM_DESCRIPTION'] = cenb['ITEM_DESCRIPTION'].replace('เงินเดือนเงินเดือนและเงินปรับวุฒิข้าราชการ','เงินเลื่อนเงินเดือนและเงินปรับวุฒิข้าราชการ')\n",
        "\n",
        "\n",
        "cenb"
      ]
    },
    {
      "cell_type": "code",
      "execution_count": null,
      "metadata": {
        "colab": {
          "background_save": true
        },
        "id": "1IEJZ9rNdtnw"
      },
      "outputs": [],
      "source": [
        "cenb_pi = cenb.pivot_table(index='ITEM_DESCRIPTION', columns='FISCAL_YEAR', values='AMOUNT', aggfunc='sum').reset_index()\n",
        "cenb_pi.columns = cenb_pi.columns.astype(str)"
      ]
    },
    {
      "cell_type": "code",
      "execution_count": null,
      "metadata": {
        "colab": {
          "background_save": true
        },
        "id": "0mjwtgfbeKOr"
      },
      "outputs": [],
      "source": [
        "cenb_pi.fillna(0, inplace=True)\n",
        "cenb_pi\n",
        "unpivoted_cenb_pi = cenb_pi.melt(id_vars=['ITEM_DESCRIPTION'],\n",
        "                    var_name='Year',\n",
        "                    value_name='Amount')\n",
        "unpivoted_cenb_pi"
      ]
    },
    {
      "cell_type": "code",
      "execution_count": null,
      "metadata": {
        "colab": {
          "background_save": true
        },
        "id": "Xj_fgFNefl0P"
      },
      "outputs": [],
      "source": [
        "import altair as alt\n",
        "\n",
        "import altair as alt\n",
        "\n",
        "alt.Chart(unpivoted_cenb_pi).mark_bar().encode(\n",
        "    x=alt.X(\"ITEM_DESCRIPTION:N\", title=\"Item Description\"),\n",
        "    y=alt.Y(\"Amount:Q\", title=\"Amount\"),\n",
        "    color=\"Year:N\",\n",
        "    column=\"Year:N\"  # ใช้สำหรับการแบ่งกลุ่ม\n",
        ").properties(\n",
        "    width=150,\n",
        "    height=300\n",
        ")\n",
        "\n",
        "\n"
      ]
    },
    {
      "cell_type": "code",
      "execution_count": null,
      "metadata": {
        "colab": {
          "background_save": true
        },
        "id": "2LWiCgchg9KT"
      },
      "outputs": [],
      "source": [
        "unc = alt.Chart(unpivoted_cenb_pi).mark_bar().encode(\n",
        "    x=alt.X('Year:N', title='Category'),\n",
        "    y=alt.Y('Amount:Q', title='Amount'),\n",
        "    color='ITEM_DESCRIPTION:N',\n",
        "    column='ITEM_DESCRIPTION:N'  # ใช้ column เพื่อจัดกลุ่มตาม Group\n",
        ").properties(\n",
        "    width=500,\n",
        "    height=400\n",
        ")\n",
        "\n",
        "\n",
        "unc"
      ]
    },
    {
      "cell_type": "code",
      "execution_count": null,
      "metadata": {
        "colab": {
          "background_save": true
        },
        "id": "jJJme0YEj-BE"
      },
      "outputs": [],
      "source": [
        "import altair as alt\n",
        "\n",
        "# สร้างกราฟแท่ง\n",
        "chart = alt.Chart(unpivoted_cenb_pi).mark_bar().encode(\n",
        "    x=alt.X('sum(Amount):Q', title='Total Amount', stack='normalize'),  # รวมจำนวนเงิน\n",
        "    y=alt.Y('ITEM_DESCRIPTION:N', title='Item Description'),\n",
        "    color='Year:N',  # ใช้สีตามปี\n",
        "    tooltip=[alt.Tooltip('Year:N', title='Year'), alt.Tooltip('sum(Amount):Q', title='Total Amount'), format=',']\n",
        ").properties(\n",
        "    width=600,\n",
        "    height=400\n",
        ")\n",
        "\n",
        "chart\n",
        "\n"
      ]
    },
    {
      "cell_type": "code",
      "execution_count": null,
      "metadata": {
        "id": "yGypRacbhMMk"
      },
      "outputs": [],
      "source": [
        "import altair as alt\n",
        "\n",
        "# สร้างกราฟแท่งพร้อม tooltip ที่มีลูกน้ำ\n",
        "chart = alt.Chart(unpivoted_cenb_pi).mark_bar().encode(\n",
        "    x=alt.X('sum(Amount):Q', title='Total Amount', stack='normalize'),  # รวมจำนวนเงิน\n",
        "    y=alt.Y('ITEM_DESCRIPTION:N', title='Item Description'),\n",
        "    color='Year:N',  # ใช้สีตามปี\n",
        "    tooltip=[\n",
        "        alt.Tooltip('Year:N', title='Year'),\n",
        "        alt.Tooltip('sum(Amount):Q', title='Total Amount', format=',')  # เพิ่มลูกน้ำ\n",
        "    ]\n",
        ").properties(\n",
        "    width=1000,\n",
        "    height=800,\n",
        "        title=alt.TitleParams(\n",
        "        text='งบกลางในแต่ละปีถูกใช้ไปกับอะไรบ้าง',\n",
        "        fontSize=20,  # ขนาดตัวอักษร\n",
        "        anchor='middle'  # ตำแหน่งอยู่กลาง\n",
        "    )\n",
        ")\n",
        "\n",
        "chart\n"
      ]
    },
    {
      "cell_type": "code",
      "execution_count": null,
      "metadata": {
        "collapsed": true,
        "id": "9_49RMDili5I"
      },
      "outputs": [],
      "source": [
        "chart = alt.Chart(unpivoted_cenb_pi).mark_bar().encode(\n",
        "    x=alt.X('sum(Amount):Q', title='Total Amount', stack='normalize'),  # รวมจำนวนเงิน\n",
        "    y=alt.Y('ITEM_DESCRIPTION:N', title='Item Description', sort='-x'),  # เพิ่ม sort ถ้าจำเป็น\n",
        "    color='Year:N',  # ใช้สีตามปี\n",
        "    tooltip=[\n",
        "        alt.Tooltip('Year:N', title='Year'),\n",
        "        alt.Tooltip('sum(Amount):Q', title='Total Amount', format=',')  # เพิ่มลูกน้ำ\n",
        "    ]\n",
        ").properties(\n",
        "    width=1000,\n",
        "    height=1000,  # ปรับความสูงกราฟ\n",
        "    title=alt.TitleParams(\n",
        "        text='งบกลางในแต่ละปีถูกใช้ไปกับอะไรบ้าง',\n",
        "        fontSize=20,  # ขนาดตัวอักษร\n",
        "        anchor='middle'  # ตำแหน่งอยู่กลาง\n",
        "    )\n",
        ").configure_axisY(\n",
        "    labelAngle=-45  # หมุนป้ายชื่อในแกน Y\n",
        ")\n",
        "chart"
      ]
    },
    {
      "cell_type": "code",
      "execution_count": null,
      "metadata": {
        "id": "0r7MckXotcHp"
      },
      "outputs": [],
      "source": [
        "gdp_tax = pd.read_excel('Budget_Gdp_taxreva.xlsx')\n",
        "gdp_tax = gdp_tax.dropna()\n",
        "gdp_tax['ปี'] = gdp_tax['ปี']+543\n",
        "gdp_tax"
      ]
    },
    {
      "cell_type": "code",
      "execution_count": null,
      "metadata": {
        "id": "I6oDOcD3MkE5"
      },
      "outputs": [],
      "source": [
        "unpivoted_gdp_tax = pd.melt(gdp_tax, id_vars=['ปี'], value_name='value')\n",
        "unpivoted_gdp_tax"
      ]
    },
    {
      "cell_type": "code",
      "execution_count": null,
      "metadata": {
        "id": "s2YqRWVnRm8A"
      },
      "outputs": [],
      "source": [
        "A = alt.Chart(gdp_tax).mark_line().encode(\n",
        "    y='ดุล:Q',\n",
        "    x='ปี:N'\n",
        ")\n",
        "A"
      ]
    },
    {
      "cell_type": "code",
      "execution_count": null,
      "metadata": {
        "id": "S-x56q29SN-U"
      },
      "outputs": [],
      "source": [
        "correlation_matrix = gdp_tax.corr()\n",
        "\n",
        "correlation_matrix"
      ]
    },
    {
      "cell_type": "code",
      "execution_count": null,
      "metadata": {
        "id": "A5D7tjJ1bHLc"
      },
      "outputs": [],
      "source": [
        "styled_heatmap = correlation_matrix.style.background_gradient(cmap='coolwarm').format(\"{:.2f}\").set_properties(**{'width': '75px'}).set_table_styles([{'selector': 'tr', 'props': [('height', '75px')]}])\n",
        "\n",
        "# แสดง hea\n",
        "\n",
        "# แสดง heatmap\n",
        "styled_heatmap\n"
      ]
    },
    {
      "cell_type": "code",
      "execution_count": null,
      "metadata": {
        "id": "58Vo3gG7gTf2"
      },
      "outputs": [],
      "source": [
        "AA = pd.read_excel('Budget_Gdp_taxreva.xlsx')\n",
        "AA = AA.dropna()\n",
        "AA['ปี'] = AA['ปี']+543\n"
      ]
    },
    {
      "cell_type": "code",
      "execution_count": null,
      "metadata": {
        "id": "tLERt8MMdsKw"
      },
      "outputs": [],
      "source": [
        "AA['growth rate งบประมาณ'] = AA['growth rate งบประมาณ']*100\n",
        "AA['growth รายได้รัฐบาล'] = AA['growth รายได้รัฐบาล']*100\n",
        "AA['ดุล growth']  = AA['ดุล growth']*100\n",
        "AA"
      ]
    },
    {
      "cell_type": "code",
      "execution_count": null,
      "metadata": {
        "id": "pFMefb8pglT-"
      },
      "outputs": [],
      "source": [
        "# ปรับ line chart\n",
        "line01 = alt.Chart(AA).mark_line().encode(\n",
        "    x=alt.X('ปี:N', axis=alt.Axis(labelFontSize=12, titleFontSize=14)),\n",
        "    y=alt.Y('growth งบประมาณ', axis=alt.Axis(labelFontSize=12, titleFontSize=14))\n",
        ").properties(\n",
        "    width=500, height=300  # ปรับขนาดกราฟ\n",
        ")\n",
        "\n",
        "line02 = alt.Chart(AA).mark_line().encode(\n",
        "    x=alt.X('ปี:N', axis=alt.Axis(labelFontSize=12, titleFontSize=14)),\n",
        "    y=alt.Y('gdp growth', axis=alt.Axis(labelFontSize=12, titleFontSize=14))\n",
        ").properties(\n",
        "    width=500, height=300\n",
        ")\n",
        "\n",
        "line03 = alt.Chart(AA).mark_line().encode(\n",
        "    x=alt.X('ปี:N', axis=alt.Axis(labelFontSize=12, titleFontSize=14)),\n",
        "    y=alt.Y('ดุล', axis=alt.Axis(labelFontSize=12, titleFontSize=14))\n",
        ").properties(\n",
        "    width=500, height=300\n",
        ")\n",
        "\n",
        "line04 = alt.Chart(AA).mark_line().encode(\n",
        "    x=alt.X('ปี:N', axis=alt.Axis(labelFontSize=12, titleFontSize=14)),\n",
        "    y=alt.Y('รายได้รัฐบาล (ล้านบาท)', axis=alt.Axis(labelFontSize=12, titleFontSize=14))\n",
        ").properties(\n",
        "    width=500, height=300\n",
        ")\n",
        "\n",
        "# รวมกราฟเข้าด้วยกัน\n",
        "(line01 & line04) | (line02 & line03)\n"
      ]
    },
    {
      "cell_type": "code",
      "execution_count": null,
      "metadata": {
        "id": "uN6jrX_fvL-i"
      },
      "outputs": [],
      "source": [
        "modeltrain = AA\n",
        "Y = AA['งบประมาณ']\n",
        "modeltrain.drop('งบประมาณ', axis=1, inplace=True)\n",
        "modeltrain.drop('growth งบประมาณ', axis=1, inplace=True)\n",
        "modeltrain.drop('growth rate งบประมาณ', axis=1, inplace=True)\n",
        "modeltrain.drop('gdp growth', axis=1, inplace=True)\n",
        "modeltrain.drop('growth รายได้รัฐบาล', axis=1, inplace=True)\n",
        "modeltrain.drop('ดุล growth', axis=1, inplace=True)\n",
        "modeltrain"
      ]
    },
    {
      "cell_type": "code",
      "execution_count": null,
      "metadata": {
        "id": "g2tIWgvVfIHV"
      },
      "outputs": [],
      "source": [
        "import pandas as pd\n",
        "from sklearn.model_selection import train_test_split\n",
        "from sklearn.linear_model import LinearRegression\n",
        "from sklearn.metrics import mean_squared_error, r2_score\n",
        "from sklearn.linear_model import Lasso\n",
        "\n",
        "\n",
        "# 1. สร้าง DataFrame หรือโหลดข้อมูล\n",
        "# สมมติว่า df คือ DataFrame ที่มีข้อมูลของคุณ\n",
        "# แยก features (X) และ target (y)\n",
        "X = modeltrain  # ใส่ชื่อคอลัมน์ที่เป็น features ของคุณ\n",
        "y = Y   # ใส่ชื่อคอลัมน์ที่เป็น target\n",
        "\n",
        "# 2. แบ่งข้อมูลเป็นชุด train และ test\n",
        "X_train, X_test, y_train, y_test = train_test_split(X, y, test_size=0.2, random_state=42)\n",
        "\n",
        "# 3. สร้างโมเดลและฝึกสอน\n",
        "alpha = 0.5  # ปรับค่า alpha ตามความเหมาะสม\n",
        "model = Lasso(alpha=alpha)\n",
        "model.fit(X_train, y_train)\n",
        "\n",
        "# 4. ทำนายค่า\n",
        "y_pred = model.predict(X_test)\n",
        "\n",
        "# 5. ประเมินผลโมเดล\n",
        "mse = mean_squared_error(y_test, y_pred)\n",
        "r2 = r2_score(y_test, y_pred)\n",
        "\n",
        "print(f\"Mean Squared Error: {mse}\")\n",
        "print(f\"R^2 Score: {r2}\")\n"
      ]
    },
    {
      "cell_type": "code",
      "execution_count": null,
      "metadata": {
        "id": "HNxid1pCwC1b"
      },
      "outputs": [],
      "source": [
        "new_data = pd.DataFrame({\n",
        "    'ปี': [2569],  # แทนที่ value1 ด้วยค่าที่ต้องการทำนาย\n",
        "    'รายได้รัฐบาล (ล้านบาท)': [3000000],  # แทนที่ value2 ด้วยค่าที่ต้องการทำนาย\n",
        "    'ดุล': [-1000000]   # แทนที่ value3 ด้วยค่าที่ต้องการทำนาย\n",
        "})\n",
        "predictions = model.predict(new_data)\n",
        "predictions\n"
      ]
    },
    {
      "cell_type": "markdown",
      "metadata": {
        "id": "1M3reCpugHKW"
      },
      "source": []
    }
  ],
  "metadata": {
    "colab": {
      "provenance": []
    },
    "kernelspec": {
      "display_name": "Python 3",
      "name": "python3"
    },
    "language_info": {
      "name": "python"
    }
  },
  "nbformat": 4,
  "nbformat_minor": 0
}